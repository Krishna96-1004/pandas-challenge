{
 "cells": [
  {
   "cell_type": "code",
   "execution_count": 2,
   "id": "02452c89",
   "metadata": {},
   "outputs": [],
   "source": [
    "#Analysis: PyCitySchools"
   ]
  },
  {
   "cell_type": "code",
   "execution_count": null,
   "id": "8f370ef0",
   "metadata": {},
   "outputs": [],
   "source": [
    "The Starter code included data from a list of schools within a city. Our finding came from 15 schools across 39,170 (total_students) from both Charter and District schools, with each school size ranging from small, medium, to large. We calculated the average scores for math and reading, the overall percentage of the students passing math and reading, and the percentage of students passing overall from each school type.\n",
    "\n",
    "Conclusion 1: In our findings, the results showed that Charter schools had a higher average score and a higher percentage of passing students for math and reading. These results could suggest that Charter schools are better at teaching their students math and reading than other school districts.\n",
    "\n",
    "Conclusion 2: In our findings, the results showed that schools that are small and medium sized have higher average scores for math and reading, and they also have a higher percentage of passing students for both math and reading. These findings could suggest that smaller schools may be able to provide more individual support and show more academic attention to their students than the larger schools in the city.\n"
   ]
  },
  {
   "cell_type": "code",
   "execution_count": null,
   "id": "9cce8323",
   "metadata": {},
   "outputs": [],
   "source": []
  }
 ],
 "metadata": {
  "kernelspec": {
   "display_name": "Python 3 (ipykernel)",
   "language": "python",
   "name": "python3"
  },
  "language_info": {
   "codemirror_mode": {
    "name": "ipython",
    "version": 3
   },
   "file_extension": ".py",
   "mimetype": "text/x-python",
   "name": "python",
   "nbconvert_exporter": "python",
   "pygments_lexer": "ipython3",
   "version": "3.10.9"
  }
 },
 "nbformat": 4,
 "nbformat_minor": 5
}
